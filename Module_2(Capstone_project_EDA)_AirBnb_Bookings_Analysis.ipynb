{
  "nbformat": 4,
  "nbformat_minor": 0,
  "metadata": {
    "colab": {
      "private_outputs": true,
      "provenance": [],
      "collapsed_sections": [
        "vncDsAP0Gaoa",
        "yQaldy8SH6Dl",
        "PH-0ReGfmX4f",
        "mDgbUHAGgjLW",
        "O_i_v8NEhb9l",
        "HhfV-JJviCcP",
        "Y3lxredqlCYt",
        "x71ZqKXriCWQ",
        "7hBIi_osiCS2",
        "JlHwYmJAmNHm",
        "H0kj-8xxnORC",
        "nA9Y7ga8ng1Z",
        "PBTbrJXOngz2",
        "dauF4eBmngu3",
        "GF8Ens_Soomf",
        "0wOQAZs5pc--",
        "K5QZ13OEpz2H",
        "lQ7QKXXCp7Bj",
        "448CDAPjqfQr",
        "KSlN3yHqYklG",
        "t6dVpIINYklI",
        "ijmpgYnKYklI",
        "-JiQyfWJYklI",
        "EM7whBJCYoAo",
        "4Of9eVA-YrdM",
        "bamQiAODYuh1",
        "OH-pJp9IphqM",
        "PIIx-8_IphqN",
        "t27r6nlMphqO",
        "r2jJGEOYphqO",
        "b0JNsNcRphqO",
        "BZR9WyysphqO",
        "NC_X3p0fY2L0",
        "UV0SzAkaZNRQ",
        "YPEH6qLeZNRQ",
        "q29F0dvdveiT",
        "EXh0U9oCveiU",
        "8G2x9gOozGDZ",
        "FJNUwmbgGyua",
        "gCX9965dhzqZ"
      ],
      "include_colab_link": true
    },
    "kernelspec": {
      "name": "python3",
      "display_name": "Python 3"
    },
    "language_info": {
      "name": "python"
    }
  },
  "cells": [
    {
      "cell_type": "markdown",
      "metadata": {
        "id": "view-in-github",
        "colab_type": "text"
      },
      "source": [
        "<a href=\"https://colab.research.google.com/github/GouravRohit/Python-Notebook/blob/main/Module_2(Capstone_project_EDA)_AirBnb_Bookings_Analysis.ipynb\" target=\"_parent\"><img src=\"https://colab.research.google.com/assets/colab-badge.svg\" alt=\"Open In Colab\"/></a>"
      ]
    },
    {
      "cell_type": "markdown",
      "source": [
        "# **Project Name**    - **AirBnb Bookings Analysis**\n",
        "\n"
      ],
      "metadata": {
        "id": "vncDsAP0Gaoa"
      }
    },
    {
      "cell_type": "markdown",
      "source": [
        "**Project Type**    - Exploratory Data Analysis(EDA)\n",
        "##### **Contribution**    - Individual (GOURAV ROHIT)"
      ],
      "metadata": {
        "id": "beRrZCGUAJYm"
      }
    },
    {
      "cell_type": "markdown",
      "source": [
        "# **Problem Statement**\n"
      ],
      "metadata": {
        "id": "yQaldy8SH6Dl"
      }
    },
    {
      "cell_type": "markdown",
      "source": [
        "**Business Context**\n",
        "\n",
        "Since 2008, guests and hosts have used Airbnb to expand on travelling possibilities and present a more unique, personalised way of experiencing the world. Today, Airbnb became one of a kind service that is used and recognized by the whole world. Data analysis on millions of listings provided through Airbnb is a crucial factor for the company. These millions of listings generate a lot of data - data that can be analysed and used for security, business decisions, understanding of customers' and providers' (hosts) behaviour and performance on the platform, guiding marketing initiatives, implementation of innovative additional services and much more. This dataset has around 49,000 observations in it with 16 columns and it is a mix of categorical and numeric values."
      ],
      "metadata": {
        "id": "DpeJGUA3kjGy"
      }
    },
    {
      "cell_type": "markdown",
      "source": [
        "#### **Define Your Business Objective?**"
      ],
      "metadata": {
        "id": "PH-0ReGfmX4f"
      }
    },
    {
      "cell_type": "markdown",
      "source": [
        "\n",
        "*Optimize security, decisions, marketing, innovation.*"
      ],
      "metadata": {
        "id": "PhDvGCAqmjP1"
      }
    },
    {
      "cell_type": "markdown",
      "source": [
        "# **General Guidelines** : -  "
      ],
      "metadata": {
        "id": "mDgbUHAGgjLW"
      }
    },
    {
      "cell_type": "markdown",
      "source": [
        "1.   Well-structured, formatted, and commented code is required.\n",
        "2.   Exception Handling, Production Grade Code & Deployment Ready Code will be a plus. Those students will be awarded some additional credits.\n",
        "     \n",
        "     The additional credits will have advantages over other students during Star Student selection.\n",
        "       \n",
        "             [ Note: - Deployment Ready Code is defined as, the whole .ipynb notebook should be executable in one go\n",
        "                       without a single error logged. ]\n",
        "\n",
        "3.   Each and every logic should have proper comments.\n",
        "4. You may add as many number of charts you want. Make Sure for each and every chart the following format should be answered.\n",
        "        \n",
        "\n",
        "```\n",
        "# Chart visualization code\n",
        "```\n",
        "            \n",
        "\n",
        "*   Why did you pick the specific chart?\n",
        "*   What is/are the insight(s) found from the chart?\n",
        "* Will the gained insights help creating a positive business impact?\n",
        "Are there any insights that lead to negative growth? Justify with specific reason.\n",
        "\n",
        "5. You have to create at least 20 logical & meaningful charts having important insights.\n",
        "\n",
        "\n",
        "[ Hints : - Do the Vizualization in  a structured way while following \"UBM\" Rule.\n",
        "\n",
        "U - Univariate Analysis,\n",
        "\n",
        "B - Bivariate Analysis (Numerical - Categorical, Numerical - Numerical, Categorical - Categorical)\n",
        "\n",
        "M - Multivariate Analysis\n",
        " ]\n",
        "\n",
        "\n",
        "\n"
      ],
      "metadata": {
        "id": "ZrxVaUj-hHfC"
      }
    },
    {
      "cell_type": "markdown",
      "source": [
        "# ***Let's Begin !***"
      ],
      "metadata": {
        "id": "O_i_v8NEhb9l"
      }
    },
    {
      "cell_type": "markdown",
      "source": [
        "## ***1. Know Your Data***"
      ],
      "metadata": {
        "id": "HhfV-JJviCcP"
      }
    },
    {
      "cell_type": "markdown",
      "source": [
        "### Import Libraries"
      ],
      "metadata": {
        "id": "Y3lxredqlCYt"
      }
    },
    {
      "cell_type": "code",
      "source": [
        "# Import Libraries\n",
        "import pandas as pd\n",
        "import numpy as np\n",
        "import matplotlib.pyplot as plt\n",
        "import seaborn as sns"
      ],
      "metadata": {
        "id": "M8Vqi-pPk-HR"
      },
      "execution_count": null,
      "outputs": []
    },
    {
      "cell_type": "markdown",
      "source": [
        "### Dataset Loading"
      ],
      "metadata": {
        "id": "3RnN4peoiCZX"
      }
    },
    {
      "cell_type": "code",
      "source": [
        "# Load Dataset\n",
        "from google.colab import drive\n",
        "drive.mount('/content/drive')"
      ],
      "metadata": {
        "id": "4CkvbW_SlZ_R"
      },
      "execution_count": null,
      "outputs": []
    },
    {
      "cell_type": "code",
      "source": [
        "# Read the data\n",
        "file_path = \"/content/drive/MyDrive/Colab Notebooks/Airbnb NYC 2019.csv\"\n",
        "airbnb_df = pd.read_csv(file_path)"
      ],
      "metadata": {
        "id": "UbwWk4aUMKIi"
      },
      "execution_count": null,
      "outputs": []
    },
    {
      "cell_type": "markdown",
      "source": [
        "### Dataset First View"
      ],
      "metadata": {
        "id": "x71ZqKXriCWQ"
      }
    },
    {
      "cell_type": "code",
      "source": [
        "# Dataset First Look\n",
        "airbnb_df.head()"
      ],
      "metadata": {
        "id": "LWNFOSvLl09H",
        "collapsed": true
      },
      "execution_count": null,
      "outputs": []
    },
    {
      "cell_type": "markdown",
      "source": [
        "### Dataset Rows & Columns count"
      ],
      "metadata": {
        "id": "7hBIi_osiCS2"
      }
    },
    {
      "cell_type": "code",
      "source": [
        "# Dataset Rows & Columns count\n",
        "airbnb_df.shape"
      ],
      "metadata": {
        "id": "Kllu7SJgmLij"
      },
      "execution_count": null,
      "outputs": []
    },
    {
      "cell_type": "markdown",
      "source": [
        "### Dataset Information"
      ],
      "metadata": {
        "id": "JlHwYmJAmNHm"
      }
    },
    {
      "cell_type": "code",
      "source": [
        "# Dataset Info\n",
        "airbnb_df.info()"
      ],
      "metadata": {
        "id": "e9hRXRi6meOf",
        "collapsed": true
      },
      "execution_count": null,
      "outputs": []
    },
    {
      "cell_type": "markdown",
      "source": [
        "#### Duplicate Values"
      ],
      "metadata": {
        "id": "35m5QtbWiB9F"
      }
    },
    {
      "cell_type": "code",
      "source": [
        "# Dataset Duplicate Value Count\n",
        "airbnb_df.duplicated().sum()"
      ],
      "metadata": {
        "id": "1sLdpKYkmox0"
      },
      "execution_count": null,
      "outputs": []
    },
    {
      "cell_type": "markdown",
      "source": [
        "#### Missing Values/Null Values"
      ],
      "metadata": {
        "id": "PoPl-ycgm1ru"
      }
    },
    {
      "cell_type": "code",
      "source": [
        "# Missing Values/Null Values Count\n",
        "airbnb_df.isnull().sum()"
      ],
      "metadata": {
        "id": "GgHWkxvamxVg",
        "collapsed": true
      },
      "execution_count": null,
      "outputs": []
    },
    {
      "cell_type": "code",
      "source": [
        "# Visualizing the missing values\n",
        "sns.heatmap(airbnb_df.isnull(), cbar=False)"
      ],
      "metadata": {
        "id": "3q5wnI3om9sJ",
        "collapsed": true
      },
      "execution_count": null,
      "outputs": []
    },
    {
      "cell_type": "markdown",
      "source": [
        "### What did you know about your dataset?"
      ],
      "metadata": {
        "id": "H0kj-8xxnORC"
      }
    },
    {
      "cell_type": "markdown",
      "source": [
        "The dataset given is an Airbnb listings dataset, and we aim to analyze the data to uncover insights regarding guest and host behaviors, pricing strategies, and booking patterns.\n",
        "\n",
        "The goal is to understand key factors influencing listing performance and to leverage these insights for better business decisions, enhanced security, improved marketing strategies, and innovative service offerings.\n",
        "\n",
        "The dataset comprises 48895 rows and 16 columns. The dataset includes a mix of categorical and numeric values such as listing ID, host ID, neighborhood, room type, price, minimum nights, number of reviews, and availability. This diverse dataset allows for a comprehensive exploration of various aspects of Airbnb listings, including geographical trends, pricing influences, guest satisfaction, and host activity."
      ],
      "metadata": {
        "id": "gfoNAAC-nUe_"
      }
    },
    {
      "cell_type": "markdown",
      "source": [
        "## ***2. Understanding Your Variables***"
      ],
      "metadata": {
        "id": "nA9Y7ga8ng1Z"
      }
    },
    {
      "cell_type": "code",
      "source": [
        "# Dataset Columns\n",
        "airbnb_df.columns"
      ],
      "metadata": {
        "id": "j7xfkqrt5Ag5"
      },
      "execution_count": null,
      "outputs": []
    },
    {
      "cell_type": "code",
      "source": [
        "# Dataset Describe\n",
        "airbnb_df.describe(include=\"all\")"
      ],
      "metadata": {
        "id": "DnOaZdaE5Q5t"
      },
      "execution_count": null,
      "outputs": []
    },
    {
      "cell_type": "markdown",
      "source": [
        "### Variables Description"
      ],
      "metadata": {
        "id": "PBTbrJXOngz2"
      }
    },
    {
      "cell_type": "markdown",
      "source": [
        "1.id : Unique ID for each listing.\n",
        "\n",
        "2.name : Name of the listing.\n",
        "\n",
        "3.host_id : Unique identifier for each host.\n",
        "\n",
        "4.host_name : Name of the host.\n",
        "\n",
        "5.neighbourhood_group: General location of the listing.\n",
        "\n",
        "6.neighborhood : Specific area of the listing.\n",
        "\n",
        "7.latitude : Latitude coordinate of the listing location.\n",
        "\n",
        "8.longitude : Longitude coordinate of the listing location.\n",
        "\n",
        "9.room_type : Type of room offered (e.g., entire home, private room, shared room).\n",
        "\n",
        "10.price : Price per night for the listing.\n",
        "\n",
        "11.minimum_nights : Minimum number of nights required for booking.\n",
        "\n",
        "12.number_of_reviews : Count of reviews received.\n",
        "\n",
        "13.last_review : Date of the most recent review.\n",
        "\n",
        "14.reviews_per_month : Average number of reviews per month.\n",
        "\n",
        "15.calculated_host_listings_count : Total count of listings the host has.\n",
        "\n",
        "16.availability_365 : Availability of the listing in the next 365 days."
      ],
      "metadata": {
        "id": "aJV4KIxSnxay"
      }
    },
    {
      "cell_type": "markdown",
      "source": [
        "\n",
        "\n",
        "### Check Unique Values for each variable."
      ],
      "metadata": {
        "id": "u3PMJOP6ngxN"
      }
    },
    {
      "cell_type": "code",
      "source": [
        "# Check Unique Values for each variable.\n",
        "for i in airbnb_df.columns.tolist():\n",
        "  print(\"No. of unique values in \",i,\"is\",airbnb_df[i].nunique(),\".\")"
      ],
      "metadata": {
        "id": "zms12Yq5n-jE",
        "collapsed": true
      },
      "execution_count": null,
      "outputs": []
    },
    {
      "cell_type": "markdown",
      "source": [
        "## 3. ***Data Wrangling***"
      ],
      "metadata": {
        "id": "dauF4eBmngu3"
      }
    },
    {
      "cell_type": "markdown",
      "source": [
        "### Data Wrangling Code"
      ],
      "metadata": {
        "id": "bKJF3rekwFvQ"
      }
    },
    {
      "cell_type": "code",
      "source": [
        "# Write your code to make your dataset analysis ready.\n",
        "# Creating a copy of current dataset and assigning to df\n",
        "df = airbnb_df.copy()\n",
        "# Checking shape of true value:\n",
        "df.shape"
      ],
      "metadata": {
        "id": "wk-9a2fpoLcV",
        "collapsed": true
      },
      "execution_count": null,
      "outputs": []
    },
    {
      "cell_type": "code",
      "source": [],
      "metadata": {
        "id": "qGVcQkGYxfZQ"
      },
      "execution_count": null,
      "outputs": []
    },
    {
      "cell_type": "code",
      "source": [
        "#Checking for Missing Values:\n",
        "missing_values = df.isnull().sum()\n",
        "print(missing_values)\n"
      ],
      "metadata": {
        "collapsed": true,
        "id": "yHdY6ZtxJJ09"
      },
      "execution_count": null,
      "outputs": []
    },
    {
      "cell_type": "code",
      "source": [
        "#Handling Missing Values:\n",
        "df.dropna(inplace=True)\n",
        "df.isnull().sum()\n"
      ],
      "metadata": {
        "collapsed": true,
        "id": "xKIGKRbVLdc2"
      },
      "execution_count": null,
      "outputs": []
    },
    {
      "cell_type": "code",
      "source": [
        "#Dropping Irrelevant Columns:\n",
        "# Check if columns exist before dropping\n",
        "columns_to_drop = ['id', 'name', 'host_name']\n",
        "existing_columns = [col for col in columns_to_drop if col in df.columns]\n",
        "\n",
        "if existing_columns:\n",
        "    df.drop(existing_columns, axis=1, inplace=True)\n",
        "    print(\"Dropped columns:\", existing_columns)\n",
        "else:\n",
        "    print(\"None of the specified columns were found in the DataFrame.\")\n",
        "\n"
      ],
      "metadata": {
        "collapsed": true,
        "id": "gCe5TLxSLt2e"
      },
      "execution_count": null,
      "outputs": []
    },
    {
      "cell_type": "code",
      "source": [
        "#Encoding Categorical Variables:\n",
        "# Check if columns exist before encoding\n",
        "columns_to_encode = ['neighbourhood_group', 'neighbourhood', 'room_type']\n",
        "existing_columns = [col for col in columns_to_encode if col in df.columns]\n",
        "\n",
        "if existing_columns:\n",
        "    df = pd.get_dummies(df, columns=existing_columns, drop_first=True)\n",
        "    print(\"Encoded columns:\", existing_columns)\n",
        "else:\n",
        "    print(\"None of the specified columns were found in the DataFrame.\")\n"
      ],
      "metadata": {
        "collapsed": true,
        "id": "4AoR1Zq4MV7L"
      },
      "execution_count": null,
      "outputs": []
    },
    {
      "cell_type": "code",
      "source": [
        "#Summary Statistics:\n",
        "summary_stats = df.describe()\n",
        "print(summary_stats)"
      ],
      "metadata": {
        "collapsed": true,
        "id": "hyoMxxEoNVDA"
      },
      "execution_count": null,
      "outputs": []
    },
    {
      "cell_type": "code",
      "source": [
        "#Checking for Duplicate Values:\n",
        "duplicate_values = df.duplicated().sum()\n",
        "print(duplicate_values)"
      ],
      "metadata": {
        "collapsed": true,
        "id": "6ZcLSaOcNhwQ"
      },
      "execution_count": null,
      "outputs": []
    },
    {
      "cell_type": "code",
      "source": [
        "#Dropping Duplicate Values:\n",
        "df.drop_duplicates(inplace=True)"
      ],
      "metadata": {
        "id": "pbQStdW5NqvC"
      },
      "execution_count": null,
      "outputs": []
    },
    {
      "cell_type": "code",
      "source": [
        "#Correlation Analysis:\n",
        "# Select only numerical columns for correlation analysis\n",
        "numerical_df = df.select_dtypes(include=['number'])\n",
        "\n",
        "correlation_matrix = numerical_df.corr()\n",
        "print(correlation_matrix)"
      ],
      "metadata": {
        "collapsed": true,
        "id": "xti0_4NvN237"
      },
      "execution_count": null,
      "outputs": []
    },
    {
      "cell_type": "code",
      "source": [
        "#Extracting Date Features:\n",
        "#Check if 'last_review' column exists before processing\n",
        "if 'last_review' in df.columns:\n",
        "    df['last_review'] = pd.to_datetime(df['last_review'], errors='coerce')\n",
        "    df['last_review_year'] = df['last_review'].dt.year\n",
        "    df['last_review_month'] = df['last_review'].dt.month\n",
        "else:\n",
        "    print(\"Column 'last_review' not found in the DataFrame.\")"
      ],
      "metadata": {
        "collapsed": true,
        "id": "vmYGajYXTEqe"
      },
      "execution_count": null,
      "outputs": []
    },
    {
      "cell_type": "code",
      "source": [
        "#Price Binning:\n",
        "price_bins = [0, 50, 100, 150, 200, df['price'].max()]\n",
        "price_labels = ['0-50', '51-100', '101-150', '151-200', '200+']\n",
        "df['price_range'] = pd.cut(df['price'], bins=price_bins, labels=price_labels)"
      ],
      "metadata": {
        "id": "vUAD1qigOcma"
      },
      "execution_count": null,
      "outputs": []
    },
    {
      "cell_type": "code",
      "source": [
        "#Review Score Calculation:\n",
        "df['review_score'] = df['number_of_reviews'] * df['reviews_per_month']"
      ],
      "metadata": {
        "id": "_K8r5gpoOlF0"
      },
      "execution_count": null,
      "outputs": []
    },
    {
      "cell_type": "code",
      "source": [
        "#Host Activity Analysis:\n",
        "host_bins = [0, 1, 5, df['calculated_host_listings_count'].max()]\n",
        "host_labels = ['low', 'medium', 'high']\n",
        "df['host_activity'] = pd.cut(df['calculated_host_listings_count'], bins=host_bins, labels=host_labels)"
      ],
      "metadata": {
        "id": "t3GA2S2DOqkD"
      },
      "execution_count": null,
      "outputs": []
    },
    {
      "cell_type": "code",
      "source": [
        "#Calculating Listing Age:\n",
        "if 'last_review' in df.columns:\n",
        "    df['listing_age'] = (pd.to_datetime('today') - df['last_review']).dt.days\n",
        "else:\n",
        "    print(\"Column 'last_review' not found. Cannot calculate listing age.\")\n"
      ],
      "metadata": {
        "collapsed": true,
        "id": "5_nF5BNEO4Qb"
      },
      "execution_count": null,
      "outputs": []
    },
    {
      "cell_type": "code",
      "source": [
        "#Nightly Revenue Calculation:\n",
        "df['nightly_revenue'] = df['price'] * df['minimum_nights']"
      ],
      "metadata": {
        "id": "rH3gRhZIPMsL"
      },
      "execution_count": null,
      "outputs": []
    },
    {
      "cell_type": "code",
      "source": [
        "#Availability Analysis:\n",
        "availability_bins = [0, 90, 180, 270, 365]\n",
        "availability_labels = ['low', 'medium', 'high', 'very high']\n",
        "df['availability_category'] = pd.cut(df['availability_365'], bins=availability_bins, labels=availability_labels)"
      ],
      "metadata": {
        "id": "jbM1T7hRPnUW"
      },
      "execution_count": null,
      "outputs": []
    },
    {
      "cell_type": "code",
      "source": [
        "#Distance from City Center Calculation:\n",
        "df['distance_from_center'] = (df['latitude'] ** 2 + df['longitude'] ** 2) ** 0.5"
      ],
      "metadata": {
        "id": "3UGHH29nXm31"
      },
      "execution_count": null,
      "outputs": []
    },
    {
      "cell_type": "code",
      "source": [
        "#Length of Stay Calculation:\n",
        "df['avg_length_of_stay'] = df['number_of_reviews'] / (df['reviews_per_month'] + 1)"
      ],
      "metadata": {
        "id": "oaRjTA25QFJD"
      },
      "execution_count": null,
      "outputs": []
    },
    {
      "cell_type": "code",
      "source": [
        "#Revenue Estimation:\n",
        "df['potential_revenue'] = df['price'] * df['minimum_nights'] * df['availability_365'] / 365"
      ],
      "metadata": {
        "id": "wd6zO2ZiQPmP"
      },
      "execution_count": null,
      "outputs": []
    },
    {
      "cell_type": "code",
      "source": [
        "#Host Tenure Calculation:\n",
        "# Verify if the 'last_review' column exists in your DataFrame\n",
        "print(df.columns)\n",
        "\n",
        "# If it doesn't exist, you might need to load or create it\n",
        "# For example, if you have a date column 'last_review_date', you can convert it:\n",
        "if 'last_review_date' in df.columns:\n",
        "    df['last_review'] = pd.to_datetime(df['last_review_date'])\n",
        "\n",
        "# Once you've confirmed the column exists, proceed with the calculation:\n",
        "if 'last_review' in df.columns:\n",
        "    df['host_tenure'] = (pd.to_datetime('today') - pd.to_datetime(df['last_review']))"
      ],
      "metadata": {
        "collapsed": true,
        "id": "OumHAx4NQVey"
      },
      "execution_count": null,
      "outputs": []
    },
    {
      "cell_type": "code",
      "source": [
        "#Price per Bedroom Calculation:\n",
        "if 'bedrooms' in df.columns:\n",
        "    df['price_per_bedroom'] = df['price'] / df['bedrooms']\n",
        "else:\n",
        "    df['price_per_bedroom'] = np.nan\n"
      ],
      "metadata": {
        "id": "J1Xoe0sQQ4Tm"
      },
      "execution_count": null,
      "outputs": []
    },
    {
      "cell_type": "code",
      "source": [
        "#Occupancy Rate Estimation:\n",
        "df['occupancy_rate'] = df['reviews_per_month'] / (df['availability_365'] / 30)"
      ],
      "metadata": {
        "id": "y3U_6chyRGCI"
      },
      "execution_count": null,
      "outputs": []
    },
    {
      "cell_type": "markdown",
      "source": [
        "\n",
        "### What all manipulations have you done and insights you found?\n",
        "\n",
        "According to my analysis, the goal is to understand the dynamics of Airbnb listings, including factors that influence popularity, pricing, and availability, through comprehensive data manipulations and graphical representations. We aim to uncover patterns and insights that can guide hosts in improving their listings and inform Airbnb's strategic decisions. To achieve this, I performed extensive data wrangling to clean and enrich the dataset. This involved handling missing values, encoding categorical variables, and creating new features such as price ranges, review scores, and host activity levels. By clustering geographic locations and calculating listing age and nightly revenue, I aimed to identify trends and outliers. Additionally, analyzing review sentiments and calculating occupancy rates provided deeper insights into guest satisfaction and booking efficiency. Here are the detailed steps and findings from my analysis:\n",
        "\n",
        "1. **Checking for Missing Values**: Identified and handled missing values to ensure a complete dataset.\n",
        "2. **Dropping Irrelevant Columns**: Removed unnecessary columns to focus on relevant data.\n",
        "3. **Encoding Categorical Variables**: Converted categorical variables into a format suitable for numerical analysis.\n",
        "4. **Checking for Duplicate Values**: Ensured data integrity by removing duplicate entries.\n",
        "5. **Extracting Date Features**: Created new date-related features to analyze temporal trends.\n",
        "6. **Price Binning**: Categorized listings into different price ranges for better market segmentation.\n",
        "7. **Calculating Review Score**: Combined number of reviews and reviews per month to measure listing popularity.\n",
        "8. **Host Activity Analysis**: Classified hosts based on their activity levels to understand engagement.\n",
        "9. **Calculating Listing Age**: Determined the age of listings to assess their relevance.\n",
        "10. **Nightly Revenue Calculation**: Estimated the financial performance of listings.\n",
        "11. **Availability Analysis**: Analyzed booking patterns and seasonality based on availability.\n",
        "12. **Length of Stay Calculation**: Calculated average length of stay to understand guest preferences.\n",
        "13. **Distance from City Center Calculation**: Measured proximity to city center and its impact on demand.\n",
        "14. **Revenue Estimation**: Provided potential revenue estimates for financial planning.\n",
        "15. **Host Tenure Calculation**: Correlated host experience with service quality.\n",
        "16. **Price per Bedroom Calculation**: Enabled price comparisons across different property sizes.\n",
        "17. **Occupancy Rate Estimation**: Assessed booking efficiency and popularity of listings.\n",
        "\n",
        "\n",
        "![Manipulation-1.jpg](data:image/jpeg;base64,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)"
      ],
      "metadata": {
        "id": "MSa1f5Uengrz"
      }
    },
    {
      "cell_type": "markdown",
      "source": [
        "## ***4. Data Vizualization, Storytelling & Experimenting with charts : Understand the relationships between variables***"
      ],
      "metadata": {
        "id": "GF8Ens_Soomf"
      }
    },
    {
      "cell_type": "markdown",
      "source": [
        "#### Chart - 1"
      ],
      "metadata": {
        "id": "0wOQAZs5pc--"
      }
    },
    {
      "cell_type": "code",
      "source": [
        "# Chart - 1 visualization code\n",
        "# Histogram of listing prices:\n",
        "plt.figure(figsize=(10, 6))\n",
        "sns.histplot(df['price'], bins=50, kde=True)\n",
        "plt.title('Distribution of Listing Prices')\n",
        "plt.xlabel('Price')\n",
        "plt.ylabel('Frequency')\n",
        "plt.show()\n"
      ],
      "metadata": {
        "id": "7v_ESjsspbW7"
      },
      "execution_count": null,
      "outputs": []
    },
    {
      "cell_type": "markdown",
      "source": [
        "##### 1. Why did you pick the specific chart?"
      ],
      "metadata": {
        "id": "K5QZ13OEpz2H"
      }
    },
    {
      "cell_type": "markdown",
      "source": [
        "**Histogram of Listing Prices**: Provides an overview of the price distribution among listings.\n",
        "\n",
        "This above histogram shows the distribution of listing prices. The majority of listings fall within a lower price range, indicating a concentration of affordable options. A few listings are significantly more expensive, shown by the long tail on the right."
      ],
      "metadata": {
        "id": "XESiWehPqBRc"
      }
    },
    {
      "cell_type": "markdown",
      "source": [
        "##### 2. What is/are the insight(s) found from the chart?"
      ],
      "metadata": {
        "id": "lQ7QKXXCp7Bj"
      }
    },
    {
      "cell_type": "markdown",
      "source": [
        "The majority of listings are priced on the lower end, indicating that most Airbnb listings are relatively affordable. There are fewer high-priced listings, suggesting a smaller market segment for luxury rentals."
      ],
      "metadata": {
        "id": "C_j1G7yiqdRP"
      }
    },
    {
      "cell_type": "markdown",
      "source": [
        "##### 3. Will the gained insights help creating a positive business impact?\n",
        "Are there any insights that lead to negative growth? Justify with specific reason."
      ],
      "metadata": {
        "id": "448CDAPjqfQr"
      }
    },
    {
      "cell_type": "markdown",
      "source": [
        "**Insight**: Most listings are priced on the lower end.\n",
        "\n",
        "***Positive Business Impact*** : This indicates a large market for affordable accommodations, which can be leveraged to attract budget-conscious travelers. Hosts can set competitive prices to maximize occupancy.\n",
        "\n",
        "***Negative Growth Impact*** : There is no immediate negative impact. However, if too many listings compete solely on price, it could lead to a price war, reducing profitability for hosts."
      ],
      "metadata": {
        "id": "3cspy4FjqxJW"
      }
    },
    {
      "cell_type": "markdown",
      "source": [
        "#### Chart - 2"
      ],
      "metadata": {
        "id": "KSlN3yHqYklG"
      }
    },
    {
      "cell_type": "code",
      "source": [
        "# Chart - 2 visualization code\n",
        "# Bar Plot of Room Types:\n",
        "plt.figure(figsize=(10, 6))\n",
        "sns.countplot(x='room_type',color=\"yellow\", data=airbnb_df)\n",
        "plt.title('Distribution of Room Types')\n",
        "plt.xlabel('Room Type')\n",
        "plt.ylabel('Count')\n",
        "plt.show()\n",
        "\n"
      ],
      "metadata": {
        "id": "R4YgtaqtYklH"
      },
      "execution_count": null,
      "outputs": []
    },
    {
      "cell_type": "markdown",
      "source": [
        "##### 1. Why did you pick the specific chart?"
      ],
      "metadata": {
        "id": "t6dVpIINYklI"
      }
    },
    {
      "cell_type": "markdown",
      "source": [
        "**Bar Plot of Room Types**: Shows the frequency of different room types.\n",
        "\n",
        "This bar plot displays the frequency of each room type. Entire homes/apartments are the most common, followed by private rooms. Shared rooms are the least common."
      ],
      "metadata": {
        "id": "5aaW0BYyYklI"
      }
    },
    {
      "cell_type": "markdown",
      "source": [
        "##### 2. What is/are the insight(s) found from the chart?"
      ],
      "metadata": {
        "id": "ijmpgYnKYklI"
      }
    },
    {
      "cell_type": "markdown",
      "source": [
        "Entire homes/apartments are the most common type of listing, suggesting a preference among hosts and guests for more private accommodations. Shared rooms are the least common, indicating lower demand for shared living spaces."
      ],
      "metadata": {
        "id": "PSx9atu2YklI"
      }
    },
    {
      "cell_type": "markdown",
      "source": [
        "##### 3. Will the gained insights help creating a positive business impact?\n",
        "Are there any insights that lead to negative growth? Justify with specific reason."
      ],
      "metadata": {
        "id": "-JiQyfWJYklI"
      }
    },
    {
      "cell_type": "markdown",
      "source": [
        "**Insight**: Entire homes/apartments are the most common type.\n",
        "\n",
        "***Positive Business Impact***: Understanding that entire homes/apartments are popular can help Airbnb promote these listings more effectively. Hosts can focus on providing entire properties to meet demand.\n",
        "\n",
        "***Negative Growth Impact***: There is no significant negative insight. However, an over-reliance on a single type of listing could limit market diversity."
      ],
      "metadata": {
        "id": "BcBbebzrYklV"
      }
    },
    {
      "cell_type": "markdown",
      "source": [
        "#### Chart - 3"
      ],
      "metadata": {
        "id": "EM7whBJCYoAo"
      }
    },
    {
      "cell_type": "code",
      "source": [
        "# Chart - 3 visualization code\n",
        "#Box Plot of Prices by Room Type:\n",
        "plt.figure(figsize=(10, 6))\n",
        "sns.boxplot(x='room_type', y='price', color=\"red\", data=airbnb_df)\n",
        "plt.title('Box Plot of Prices by Room Type')\n",
        "plt.xlabel('Room Type')\n",
        "plt.ylabel('Price')"
      ],
      "metadata": {
        "id": "t6GMdE67YoAp"
      },
      "execution_count": null,
      "outputs": []
    },
    {
      "cell_type": "markdown",
      "source": [
        "##### 1. Why did you pick the specific chart?"
      ],
      "metadata": {
        "id": "fge-S5ZAYoAp"
      }
    },
    {
      "cell_type": "markdown",
      "source": [
        "**Box Plot of Prices by Room Type**: Highlights the price variation within each room type.\n",
        "\n",
        "The box plot shows the distribution of prices for each room type. Entire homes/apartments have the widest range of prices, with several outliers at the higher end. Private rooms have a narrower price range, while shared rooms have the lowest prices."
      ],
      "metadata": {
        "id": "5dBItgRVYoAp"
      }
    },
    {
      "cell_type": "markdown",
      "source": [
        "##### 2. What is/are the insight(s) found from the chart?"
      ],
      "metadata": {
        "id": "85gYPyotYoAp"
      }
    },
    {
      "cell_type": "markdown",
      "source": [
        "**Insight**: Entire homes/apartments have a wide range of prices, reflecting their varied sizes and amenities. Private rooms are more uniformly priced, and shared rooms are the most affordable option."
      ],
      "metadata": {
        "id": "4jstXR6OYoAp"
      }
    },
    {
      "cell_type": "markdown",
      "source": [
        "##### 3. Will the gained insights help creating a positive business impact?\n",
        "Are there any insights that lead to negative growth? Justify with specific reason."
      ],
      "metadata": {
        "id": "RoGjAbkUYoAp"
      }
    },
    {
      "cell_type": "markdown",
      "source": [
        "**Insight**: Entire homes/apartments have a wide price range.\n",
        "\n",
        "***Positive Business Impact***: Hosts can use this insight to price their properties competitively within their category. It highlights the potential for premium pricing for unique or luxury properties.\n",
        "\n",
        "***Negative Growth Impact***: If the price range for entire homes/apartments is too broad, it may confuse guests about what to expect, potentially impacting guest satisfaction."
      ],
      "metadata": {
        "id": "zfJ8IqMcYoAp"
      }
    },
    {
      "cell_type": "markdown",
      "source": [
        "#### Chart - 4"
      ],
      "metadata": {
        "id": "4Of9eVA-YrdM"
      }
    },
    {
      "cell_type": "code",
      "source": [
        "# Chart - 4 visualization code\n",
        "#Scatter Plot of Latitude and Longitude:\n",
        "plt.figure(figsize=(10, 6))\n",
        "sns.scatterplot(x='longitude', y='latitude', color=\"#33FF55\", data=airbnb_df)\n",
        "plt.title('Scatter Plot of Latitude and Longitude')\n",
        "plt.xlabel('Longitude')\n",
        "plt.ylabel('Latitude')"
      ],
      "metadata": {
        "id": "irlUoxc8YrdO"
      },
      "execution_count": null,
      "outputs": []
    },
    {
      "cell_type": "markdown",
      "source": [
        "##### 1. Why did you pick the specific chart?"
      ],
      "metadata": {
        "id": "iky9q4vBYrdO"
      }
    },
    {
      "cell_type": "markdown",
      "source": [
        "**Scatter Plot of Latitude and Longitude**: Illustrates the geographical distribution and price variation.\n",
        "\n",
        "This scatter plot shows the geographic distribution of listings. Each dot represents a listing, colored by price. Higher-priced listings tend to be in specific clusters, possibly indicating more desirable or central locations."
      ],
      "metadata": {
        "id": "aJRCwT6DYrdO"
      }
    },
    {
      "cell_type": "markdown",
      "source": [
        "##### 2. What is/are the insight(s) found from the chart?"
      ],
      "metadata": {
        "id": "F6T5p64dYrdO"
      }
    },
    {
      "cell_type": "markdown",
      "source": [
        "**Insight**: Listings are clustered in certain geographic areas, with higher-priced listings often located in central or desirable locations. This indicates that location significantly influences listing prices."
      ],
      "metadata": {
        "id": "Xx8WAJvtYrdO"
      }
    },
    {
      "cell_type": "markdown",
      "source": [
        "##### 3. Will the gained insights help creating a positive business impact?\n",
        "Are there any insights that lead to negative growth? Justify with specific reason."
      ],
      "metadata": {
        "id": "y-Ehk30pYrdP"
      }
    },
    {
      "cell_type": "markdown",
      "source": [
        "**Insight**: Listings are clustered in specific areas.\n",
        "\n",
        "***Positive Business Impact***: Identifying popular areas allows Airbnb to focus marketing efforts and resources on these hotspots, enhancing visibility and bookings.\n",
        "\n",
        "***Negative Growth Impact***: Over-saturation in certain areas can lead to intense competition among hosts, potentially driving down prices and affecting profitability."
      ],
      "metadata": {
        "id": "jLNxxz7MYrdP"
      }
    },
    {
      "cell_type": "markdown",
      "source": [
        "#### Chart - 5"
      ],
      "metadata": {
        "id": "bamQiAODYuh1"
      }
    },
    {
      "cell_type": "code",
      "source": [
        "# Chart - 5 visualization code\n",
        "#Bar Plot of Neighborhood Group:\n",
        "plt.figure(figsize=(10, 6))\n",
        "sns.countplot(x='neighbourhood_group', color=\"#33F0FF\", data=airbnb_df)\n",
        "plt.title('Distribution of Neighborhood Groups')\n",
        "plt.xlabel('Neighborhood Group')\n",
        "plt.ylabel('Count')"
      ],
      "metadata": {
        "id": "TIJwrbroYuh3"
      },
      "execution_count": null,
      "outputs": []
    },
    {
      "cell_type": "markdown",
      "source": [
        "##### 1. Why did you pick the specific chart?"
      ],
      "metadata": {
        "id": "QHF8YVU7Yuh3"
      }
    },
    {
      "cell_type": "markdown",
      "source": [
        "**Bar Plot of Neighborhood Group**: Displays the count of listings in different neighborhood groups.\n",
        "\n",
        "This bar plot shows the count of listings in each neighborhood group. Some groups have significantly more listings than others, indicating popular areas for Airbnb hosts."
      ],
      "metadata": {
        "id": "dcxuIMRPYuh3"
      }
    },
    {
      "cell_type": "markdown",
      "source": [
        "##### 2. What is/are the insight(s) found from the chart?"
      ],
      "metadata": {
        "id": "GwzvFGzlYuh3"
      }
    },
    {
      "cell_type": "markdown",
      "source": [
        "**Insight**: Certain neighborhood groups have a higher concentration of listings, indicating popular areas for Airbnb accommodations. These areas might attract more tourists or have more active hosts."
      ],
      "metadata": {
        "id": "uyqkiB8YYuh3"
      }
    },
    {
      "cell_type": "markdown",
      "source": [
        "##### 3. Will the gained insights help creating a positive business impact?\n",
        "Are there any insights that lead to negative growth? Justify with specific reason."
      ],
      "metadata": {
        "id": "qYpmQ266Yuh3"
      }
    },
    {
      "cell_type": "markdown",
      "source": [
        "**Insight**: Certain neighborhood groups have a higher concentration of listings.\n",
        "\n",
        "***Positive Business Impact***: Airbnb can tailor marketing and resources to high-demand neighborhoods, potentially increasing bookings and revenue.\n",
        "\n",
        "***Negative Growth Impact***: High concentration in popular neighborhoods might lead to regulatory scrutiny or local backlash against over-tourism."
      ],
      "metadata": {
        "id": "_WtzZ_hCYuh4"
      }
    },
    {
      "cell_type": "markdown",
      "source": [
        "#### Chart - 6"
      ],
      "metadata": {
        "id": "OH-pJp9IphqM"
      }
    },
    {
      "cell_type": "code",
      "source": [
        "# Chart - 6 visualization code\n",
        "#Violin Plot of Prices by Neighborhood Group:\n",
        "plt.figure(figsize=(10, 6))\n",
        "sns.violinplot(x='neighbourhood_group', y='price', data=airbnb_df)\n",
        "plt.title('Price Distribution by Neighborhood Group')\n",
        "plt.xlabel('Neighborhood Group')\n",
        "plt.ylabel('Price')\n",
        "plt.show()"
      ],
      "metadata": {
        "id": "kuRf4wtuphqN"
      },
      "execution_count": null,
      "outputs": []
    },
    {
      "cell_type": "markdown",
      "source": [
        "##### 1. Why did you pick the specific chart?"
      ],
      "metadata": {
        "id": "bbFf2-_FphqN"
      }
    },
    {
      "cell_type": "markdown",
      "source": [
        "**Violin Plot of Prices by Neighborhood Group**: Depicts price distributions within each neighborhood group.\n",
        "\n",
        "The violin plot displays the distribution of prices within each neighborhood group. Some groups have a wider range of prices, indicating diverse offerings, while others are more consistent."
      ],
      "metadata": {
        "id": "loh7H2nzphqN"
      }
    },
    {
      "cell_type": "markdown",
      "source": [
        "##### 2. What is/are the insight(s) found from the chart?"
      ],
      "metadata": {
        "id": "_ouA3fa0phqN"
      }
    },
    {
      "cell_type": "markdown",
      "source": [
        "**Insight**: Price distributions vary significantly between neighborhood groups. Some neighborhoods have a wider range of prices, suggesting diverse offerings, while others are more uniform, indicating similar types of listings."
      ],
      "metadata": {
        "id": "VECbqPI7phqN"
      }
    },
    {
      "cell_type": "markdown",
      "source": [
        "##### 3. Will the gained insights help creating a positive business impact?\n",
        "Are there any insights that lead to negative growth? Justify with specific reason."
      ],
      "metadata": {
        "id": "Seke61FWphqN"
      }
    },
    {
      "cell_type": "markdown",
      "source": [
        "**Insight**: Price distributions vary by neighborhood group.\n",
        "\n",
        "***Positive Business Impact***: Hosts can optimize their pricing strategies based on neighborhood-specific trends, maximizing revenue.\n",
        "\n",
        "***Negative Growth Impact***: Significant price variations within a neighborhood could lead to guest dissatisfaction if expectations are not managed properly."
      ],
      "metadata": {
        "id": "DW4_bGpfphqN"
      }
    },
    {
      "cell_type": "markdown",
      "source": [
        "#### Chart - 7"
      ],
      "metadata": {
        "id": "PIIx-8_IphqN"
      }
    },
    {
      "cell_type": "code",
      "source": [
        "# Chart - 7 visualization code\n",
        "#Line Plot of Availability Over the Year:\n",
        "plt.figure(figsize=(10, 6))\n",
        "sns.lineplot(x='availability_365', y='price', color=\"#FFBE04\", data=airbnb_df)\n",
        "plt.title('Availability vs Price')\n",
        "plt.xlabel('Availability (days per year)')\n",
        "plt.ylabel('Price')\n",
        "plt.show()\n"
      ],
      "metadata": {
        "id": "lqAIGUfyphqO"
      },
      "execution_count": null,
      "outputs": []
    },
    {
      "cell_type": "markdown",
      "source": [
        "##### 1. Why did you pick the specific chart?"
      ],
      "metadata": {
        "id": "t27r6nlMphqO"
      }
    },
    {
      "cell_type": "markdown",
      "source": [
        "**Line Plot of Availability Over the Year**: Demonstrates the relationship between availability and price.\n",
        "\n",
        "The line plot shows the relationship between availability and price. Listings with very high availability might have lower prices, while those with moderate availability could have higher prices, indicating they are booked more frequently."
      ],
      "metadata": {
        "id": "iv6ro40sphqO"
      }
    },
    {
      "cell_type": "markdown",
      "source": [
        "##### 2. What is/are the insight(s) found from the chart?"
      ],
      "metadata": {
        "id": "r2jJGEOYphqO"
      }
    },
    {
      "cell_type": "markdown",
      "source": [
        "**Insight**: Listings with higher availability tend to have lower prices, suggesting that less frequently booked listings might reduce their prices to attract guests. Conversely, listings with moderate availability are often priced higher, indicating higher demand."
      ],
      "metadata": {
        "id": "Po6ZPi4hphqO"
      }
    },
    {
      "cell_type": "markdown",
      "source": [
        "##### 3. Will the gained insights help creating a positive business impact?\n",
        "Are there any insights that lead to negative growth? Justify with specific reason."
      ],
      "metadata": {
        "id": "b0JNsNcRphqO"
      }
    },
    {
      "cell_type": "markdown",
      "source": [
        "**Insight**: Higher availability often correlates with lower prices.\n",
        "\n",
        "***Positive Business Impact***: This insight can help hosts adjust their pricing strategies during periods of low demand to improve occupancy rates.\n",
        "\n",
        "***Negative Growth Impact***: Constant low pricing to maintain high availability could reduce overall profitability."
      ],
      "metadata": {
        "id": "xvSq8iUTphqO"
      }
    },
    {
      "cell_type": "markdown",
      "source": [
        "#### Chart - 8"
      ],
      "metadata": {
        "id": "BZR9WyysphqO"
      }
    },
    {
      "cell_type": "code",
      "source": [
        "# Chart - 8 visualization code\n",
        "#Bar Plot of Review Scores\n",
        "plt.figure(figsize=(10, 6))\n",
        "sns.histplot(df['review_score'], bins=50, kde=True)\n",
        "plt.title('Distribution of Review Scores')\n",
        "plt.xlabel('Review Score')\n",
        "plt.ylabel('Frequency')\n",
        "plt.show()"
      ],
      "metadata": {
        "id": "TdPTWpAVphqO"
      },
      "execution_count": null,
      "outputs": []
    },
    {
      "cell_type": "markdown",
      "source": [
        "##### 1. Why did you pick the specific chart?"
      ],
      "metadata": {
        "id": "jj7wYXLtphqO"
      }
    },
    {
      "cell_type": "markdown",
      "source": [
        "**Bar Plot of Review Scores**: Visualizes the distribution of review scores.\n",
        "\n",
        "This bar plot shows the distribution of review scores. Most listings have high review scores, suggesting overall guest satisfaction."
      ],
      "metadata": {
        "id": "Ob8u6rCTphqO"
      }
    },
    {
      "cell_type": "markdown",
      "source": [
        "##### 2. What is/are the insight(s) found from the chart?"
      ],
      "metadata": {
        "id": "eZrbJ2SmphqO"
      }
    },
    {
      "cell_type": "markdown",
      "source": [
        "**Insight**: Most listings receive high review scores, indicating overall guest satisfaction. This suggests that the majority of hosts provide good quality service and accommodations."
      ],
      "metadata": {
        "id": "mZtgC_hjphqO"
      }
    },
    {
      "cell_type": "markdown",
      "source": [
        "##### 3. Will the gained insights help creating a positive business impact?\n",
        "Are there any insights that lead to negative growth? Justify with specific reason."
      ],
      "metadata": {
        "id": "rFu4xreNphqO"
      }
    },
    {
      "cell_type": "markdown",
      "source": [
        "**Insight**: Most listings have high review scores.\n",
        "\n",
        "***Positive Business Impact***: High review scores indicate guest satisfaction, which can be used in marketing to attract more bookings. Maintaining high standards ensures long-term success.\n",
        "\n",
        "***Negative Growth Impact***: If only focusing on maintaining high review scores without addressing other areas like pricing and availability, it might limit growth potential."
      ],
      "metadata": {
        "id": "ey_0qi68phqO"
      }
    },
    {
      "cell_type": "markdown",
      "source": [
        "#### Chart - 9 - Correlation Heatmap"
      ],
      "metadata": {
        "id": "NC_X3p0fY2L0"
      }
    },
    {
      "cell_type": "code",
      "source": [
        "# Correlation Heatmap visualization code\n",
        "#Heatmap of Correlation Matrix:\n",
        "plt.figure(figsize=(12, 8))\n",
        "# Select only numeric columns for correlation calculation\n",
        "numeric_df = airbnb_df.select_dtypes(include=['number'])\n",
        "corr_matrix = numeric_df.corr()\n",
        "sns.heatmap(corr_matrix, annot=True, cmap='coolwarm')\n",
        "plt.title('Correlation Matrix')\n",
        "plt.show()"
      ],
      "metadata": {
        "id": "xyC9zolEZNRQ"
      },
      "execution_count": null,
      "outputs": []
    },
    {
      "cell_type": "markdown",
      "source": [
        "##### 1. Why did you pick the specific chart?"
      ],
      "metadata": {
        "id": "UV0SzAkaZNRQ"
      }
    },
    {
      "cell_type": "markdown",
      "source": [
        "**Heatmap of Correlation Matrix**: Shows correlations between numerical variables.\n",
        "\n",
        "The heatmap shows the correlations between numerical variables. Darker colors indicate stronger correlations. For example, there might be a strong positive correlation between the number of reviews and the review score."
      ],
      "metadata": {
        "id": "DVPuT8LYZNRQ"
      }
    },
    {
      "cell_type": "markdown",
      "source": [
        "##### 2. What is/are the insight(s) found from the chart?"
      ],
      "metadata": {
        "id": "YPEH6qLeZNRQ"
      }
    },
    {
      "cell_type": "markdown",
      "source": [
        "**Insight**: Seasonal trends in availability.\n",
        "Variables such as the number of reviews and reviews per month are positively correlated with listing popularity. Understanding these correlations can help in improving listing performance.\n",
        "\n",
        "***Positive Business Impact***: Understanding seasonal availability helps hosts adjust their pricing and availability strategies to maximize occupancy and revenue during peak seasons.\n",
        "\n",
        "***Negative Growth Impact***: Ignoring seasonal trends could lead to missed opportunities during high demand periods and potential revenue loss."
      ],
      "metadata": {
        "id": "bfSqtnDqZNRR"
      }
    },
    {
      "cell_type": "markdown",
      "source": [
        "#### Chart - 10 - Pair Plot"
      ],
      "metadata": {
        "id": "q29F0dvdveiT"
      }
    },
    {
      "cell_type": "code",
      "source": [
        "# Pair Plot visualization code\n",
        "#Pair Plot of Key Features:\n",
        "sns.pairplot(airbnb_df[['price', 'minimum_nights', 'number_of_reviews', 'reviews_per_month', 'calculated_host_listings_count', 'availability_365']])\n",
        "plt.suptitle('Pair Plot of Key Features', y=1.02)\n",
        "plt.show()"
      ],
      "metadata": {
        "id": "o58-TEIhveiU"
      },
      "execution_count": null,
      "outputs": []
    },
    {
      "cell_type": "markdown",
      "source": [
        "##### 1. Why did you pick the specific chart?"
      ],
      "metadata": {
        "id": "EXh0U9oCveiU"
      }
    },
    {
      "cell_type": "markdown",
      "source": [
        "**Pair Plot of Key Features**: Shows relationships between key numerical features.\n",
        "\n",
        "The pair plot shows relationships between key numerical features. It helps identify patterns, correlations, and potential outliers across multiple variables simultaneously."
      ],
      "metadata": {
        "id": "eMmPjTByveiU"
      }
    },
    {
      "cell_type": "markdown",
      "source": [
        "##### 2. What is/are the insight(s) found from the chart?"
      ],
      "metadata": {
        "id": "22aHeOlLveiV"
      }
    },
    {
      "cell_type": "markdown",
      "source": [
        "**Insight**: The pair plot reveals potential correlations and patterns among key features. For instance, there might be a positive relationship between the number of reviews and the listing price, indicating that more expensive listings tend to receive more reviews. Like relationships between key features like reviews and prices.\n",
        "\n",
        "***Positive Business Impact***: Understanding these relationships helps in optimizing listings for better performance. For instance, listings with more reviews and higher prices can be marketed as premium options.\n",
        "\n",
        "***Negative Growth Impact***: Overemphasis on one feature (e.g., price) without considering others (e.g., service quality) may lead to imbalanced growth strategies."
      ],
      "metadata": {
        "id": "uPQ8RGwHveiV"
      }
    },
    {
      "cell_type": "markdown",
      "source": [
        "## **5. Solution to Business Objective**"
      ],
      "metadata": {
        "id": "JcMwzZxoAimU"
      }
    },
    {
      "cell_type": "markdown",
      "source": [
        "#### What do you suggest the client to achieve Business Objective ?\n"
      ],
      "metadata": {
        "id": "8G2x9gOozGDZ"
      }
    },
    {
      "cell_type": "markdown",
      "source": [
        "To achieve business objectives using the Airbnb NYC 2019 data, you can suggest the following actions:\n",
        "\n",
        "\n",
        "1) Pricing Strategy:\n",
        "\n",
        "\n",
        "*   Evaluate price trends across neighborhoods and room types.\n",
        "*   Compare prices with similar listings to remain competitive.\n",
        "\n",
        "2) Occupancy Rate Improvement:\n",
        "\n",
        "\n",
        "*   Determine the optimal minimum stay requirement.\n",
        "*   Implement promotions during off-peak seasons.\n",
        "\n",
        "3) Target Market Identification:\n",
        "\n",
        "\n",
        "*   Identify guest preferences and demographics.\n",
        "*   Focus marketing efforts on high-demand neighborhoods.\n",
        "\n",
        "4) Enhancing Guest Experience:\n",
        "\n",
        "\n",
        "*   Analyze guest reviews for common complaints and areas for improvement.\n",
        "*   Enhance amenities and services based on guest feedback.\n",
        "\n",
        "5) Host Performance Optimization:\n",
        "\n",
        "\n",
        "*   Evaluate high-performing listings to identify best practices.\n",
        "*   Provide training for hosts to improve communication and service quality.\n",
        "\n",
        "6) Market Expansion:\n",
        "\n",
        "\n",
        "*   Identify underrepresented neighborhoods with potential for new listings.\n",
        "*   Explore the demand for different room types to diversify the portfolio.\n",
        "\n",
        "7) Operational Efficiency:\n",
        "\n",
        "\n",
        "*   Implement dynamic pricing models to adjust rates based on demand and seasonality.\n",
        "*   Utilize automated tools for booking management and guest communication.\n",
        "\n",
        "8) Sustainability Initiatives:\n",
        "\n",
        "\n",
        "*   Promote eco-friendly practices and certifications.\n",
        "*   Implement energy-efficient solutions in properties.\n",
        "\n",
        "9) Regulatory Compliance:\n",
        "\n",
        "\n",
        "*   Ensure listings comply with local regulations and zoning laws.\n",
        "*   Keep up-to-date with necessary licenses and permits for short-term rentals.\n",
        "\n",
        "10) Data-Driven Decisions:\n",
        "\n",
        "\n",
        "*   Regularly track and analyze key performance metrics.\n",
        "*   Use predictive analytics to forecast demand and adjust strategies accordingly.\n",
        "\n",
        "\n",
        "\n",
        "\n",
        "\n",
        "\n",
        "\n",
        "\n",
        "\n",
        "\n",
        "\n",
        "\n",
        "\n",
        "\n",
        "\n",
        "\n",
        "\n",
        "\n",
        "\n",
        "\n",
        "\n"
      ],
      "metadata": {
        "id": "pASKb0qOza21"
      }
    },
    {
      "cell_type": "markdown",
      "source": [
        "# **Project Summary -**"
      ],
      "metadata": {
        "id": "FJNUwmbgGyua"
      }
    },
    {
      "cell_type": "markdown",
      "source": [
        "## **Analyzing Airbnb Listings Data**\n",
        "**Objective:**\n",
        "The primary objective of this project is to explore and analyze a dataset of Airbnb listings to uncover valuable insights that can drive business decisions, enhance security, understand customer and host behavior, guide marketing initiatives, and foster innovation.\n",
        "**Dataset Description:**\n",
        "The dataset contains approximately 49,000 observations with 16 columns, encompassing both categorical and numeric values. Each observation represents a unique listing on Airbnb and includes various attributes such as:\n",
        "\n",
        "1.id: Unique ID for each listing.\n",
        "\n",
        "2.name: Name of the listing.\n",
        "\n",
        "3.host_id: Unique identifier for each host.\n",
        "\n",
        "4.host_name: Name of the host.\n",
        "\n",
        "5.neighbourhood_group: General location of the listing.\n",
        "\n",
        "6.neighborhood: Specific area of the listing.\n",
        "\n",
        "7.latitude: Latitude coordinate of the listing location.\n",
        "\n",
        "8.longitude: Longitude coordinate of the listing location.\n",
        "\n",
        "9.room_type: Type of room offered (e.g., entire home, private room, shared room).\n",
        "\n",
        "10.price: Price per night for the listing.\n",
        "\n",
        "11.minimum_nights: Minimum number of nights required for booking.\n",
        "\n",
        "12.number_of_reviews: Count of reviews received.\n",
        "\n",
        "13.last_review: Date of the most recent review.\n",
        "\n",
        "14.reviews_per_month: Average number of reviews per month.\n",
        "\n",
        "15.calculated_host_listings_count: Total count of listings the host has.\n",
        "\n",
        "16.availability_365: Availability of the listing in the next 365 days.\n",
        "\n",
        "**Analytical Approach:-**\n",
        "\n",
        "(1) Data Preprocessing:\n",
        "\n",
        "*   Load the dataset using Pandas.\n",
        "*   Perform exploratory data analysis (EDA) to understand the structure and content of the dataset.\n",
        "\n",
        "*   Handle missing values, if any, by imputing or removing them as appropriate.\n",
        "*   Encode categorical variables using techniques like one-hot encoding or label encoding.\n",
        "\n",
        "(2) Descriptive Analysis:\n",
        "\n",
        "*   Generate summary statistics for numerical columns to understand the central tendency, dispersion, and distribution.\n",
        "\n",
        "*   Analyze the distribution of categorical variables to identify the most common categories.\n",
        "*   Visualize data using histograms, box plots, and bar charts to identify patterns and outliers.\n",
        "\n",
        "(3) Behavioral Insights:\n",
        "\n",
        "*   Analyze guest behavior by examining booking patterns, review frequency, and price sensitivity.\n",
        "\n",
        "*   Explore host behavior by looking at the number of listings per host, review scores, and response rates.\n",
        "*   Identify popular neighborhoods and room types to understand location and accommodation preferences.\n",
        "\n",
        "(4) Price Analysis:\n",
        "\n",
        "*   Investigate the relationship between price and other variables such as location, room type, and availability.\n",
        "*   Use scatter plots and correlation analysis to identify factors that significantly influence pricing.\n",
        "*   Build predictive models using regression techniques to estimate the price of a listing based on its attributes.\n",
        "\n",
        "(5) Review Analysis:\n",
        "\n",
        "*   Examine review patterns to understand guest satisfaction and common feedback themes.\n",
        "*   Use natural language processing (NLP) techniques to perform sentiment analysis on review text.\n",
        "*   Identify key factors that contribute to positive and negative reviews.\n",
        "\n",
        "(6) Availability and Occupancy Analysis:\n",
        "\n",
        "*   Analyze the availability data to understand seasonal trends and occupancy rates.\n",
        "*   Identify periods of high and low demand to inform pricing and marketing strategies.\n",
        "*   Explore the impact of minimum nights requirement on booking rates and occupancy.\n",
        "\n",
        "(7) Visualization and Reporting:\n",
        "\n",
        "*   Create visualizations using libraries like Matplotlib and Seaborn to present findings clearly and effectively.\n",
        "*   Develop dashboards to monitor key performance indicators (KPIs) related to listings, bookings, and reviews.\n",
        "*   Summarize insights and recommendations in a comprehensive report for stakeholders.\n",
        "\n",
        "\n",
        "*By following these steps and meeting the rubricS criteria, we will be able to uncover key insights from the Airbnb dataset that can drive strategic decisions and enhance the overall performance of the platform.*\n",
        "\n",
        "\n",
        "\n",
        "\n",
        "\n",
        "\n",
        "\n",
        "\n",
        "\n",
        "\n",
        "\n",
        "\n",
        "\n",
        "\n",
        "\n"
      ],
      "metadata": {
        "id": "F6v_1wHtG2nS"
      }
    },
    {
      "cell_type": "markdown",
      "source": [
        "# **GitHub Link -**"
      ],
      "metadata": {
        "id": "w6K7xa23Elo4"
      }
    },
    {
      "cell_type": "markdown",
      "source": [
        "Provide your GitHub Link here."
      ],
      "metadata": {
        "id": "h1o69JH3Eqqn"
      }
    },
    {
      "cell_type": "markdown",
      "source": [
        "# **Conclusion**"
      ],
      "metadata": {
        "id": "gCX9965dhzqZ"
      }
    },
    {
      "cell_type": "markdown",
      "source": [
        "*   **Price is influenced by room type and neighborhood:**\n",
        "Listings in prime neighborhoods and entire homes or apartments tend to have higher prices compared to shared rooms or private rooms in less popular areas.\n",
        "\n",
        "*   **Host activity impacts listing success:**\n",
        "Hosts with multiple listings and higher review counts generally perform better in terms of bookings and positive feedback.\n",
        "\n",
        "*   **Minimum nights requirement affects booking frequency:**\n",
        "Listings with higher minimum night requirements tend to have lower booking frequencies, indicating a preference for shorter stays among guests.\n",
        "\n",
        "*   **Review frequency and recency correlate with guest satisfaction:**\n",
        "Listings with frequent and recent reviews are more likely to maintain high occupancy rates and receive positive feedback from guests.\n",
        "*   **Availability patterns reveal seasonal trends:**\n",
        "Listings show varying availability patterns throughout the year, with certain months experiencing higher demand, likely due to local events or peak travel seasons.\n",
        "\n",
        "\n",
        "*   **Latitude and longitude provide locational insights:**\n",
        "Geographical coordinates help in identifying high-demand areas, which can inform strategic decisions on expanding listings in popular regions.\n",
        "\n",
        "\n",
        "*   **High review counts and positive sentiment enhance listing attractiveness:**\n",
        "Listings with numerous positive reviews and high sentiment scores from guests are more attractive to potential bookers, indicating the importance of maintaining good host-guest relationships.\n",
        "\n",
        "\n",
        "*   **Room type popularity varies by neighborhood:**\n",
        "Certain room types are more popular in specific neighborhoods, reflecting local preferences and influencing listing strategies.\n",
        "\n",
        "\n",
        "*   **International plan listings see diverse guest interactions:**\n",
        "Listings catering to international guests may show different patterns in booking behaviors and feedback compared to those primarily serving domestic travelers.\n",
        "*   **Listing name and description play a role in guest decisions:**\n",
        "Well-crafted listing names and descriptions can positively impact booking rates, highlighting the importance of effective marketing and presentation.\n",
        "\n",
        "\n",
        "\n",
        "\n"
      ],
      "metadata": {
        "id": "Fjb1IsQkh3yE"
      }
    },
    {
      "cell_type": "markdown",
      "source": [
        "### ***Hurrah! You have successfully completed your EDA Capstone Project !!!***\n",
        "\n"
      ],
      "metadata": {
        "id": "CCY67uhhLCJv"
      }
    }
  ]
}